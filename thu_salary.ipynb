{
 "cells": [
  {
   "cell_type": "code",
   "execution_count": 1,
   "metadata": {},
   "outputs": [],
   "source": [
    "import re\n",
    "import json\n",
    "import numpy as np\n",
    "import pandas as pd\n",
    "import jieba\n",
    "from zhconv import convert\n",
    "from sklearn.feature_extraction.text import TfidfVectorizer\n",
    "from sklearn.decomposition import PCA"
   ]
  },
  {
   "cell_type": "markdown",
   "metadata": {},
   "source": [
    "## 人才价值特征还未做"
   ]
  },
  {
   "cell_type": "code",
   "execution_count": 2,
   "metadata": {},
   "outputs": [
    {
     "name": "stderr",
     "output_type": "stream",
     "text": [
      "/var/folders/99/wft1658s2mv39cv4wj_rcpqh0000gp/T/ipykernel_50594/3330071591.py:2: DtypeWarning: Columns (6) have mixed types. Specify dtype option on import or set low_memory=False.\n",
      "  all_data = pd.read_csv('../data/all_sample_20220821_spark.csv').drop(['Unnamed: 0'], axis=1)\n"
     ]
    }
   ],
   "source": [
    "# 读入20220821所有数据\n",
    "all_data = pd.read_csv('../data/all_sample_20220821_spark.csv').drop(['Unnamed: 0'], axis=1)"
   ]
  },
  {
   "cell_type": "code",
   "execution_count": 3,
   "metadata": {},
   "outputs": [
    {
     "data": {
      "text/plain": [
       "Index(['cv_id', 'jd_id', 'jd_code', 'title', 'deadline', 'category_id',\n",
       "       'category_name', 'company_id', 'company_name', 'recruit_number',\n",
       "       'work_age', 'min_annual_salary', 'max_annual_salary',\n",
       "       'min_month_salary', 'max_month_salary', 'pay_months', 'created_by_name',\n",
       "       'created_by', 'created_at', 'updated_by', 'updated_at', 'tenant_id',\n",
       "       'guarantee_period', 'status', 'recommended_rcn', 'tags', 'workplaces',\n",
       "       'description', 'school', 'degree', 'post_level_id', 'requirement', 'ds',\n",
       "       '_id', 'additionInfo', 'age', 'certificates', 'code', 'competenceScore',\n",
       "       'completeness', 'countryCode', 'createdAt', 'createdBy',\n",
       "       'currentCompany', 'currentPosition', 'currentSalary', 'dateOfBirth',\n",
       "       'degree.1', 'desiredIndustry', 'desiredPosition', 'desiredSalary',\n",
       "       'dutyTime', 'expectLocation', 'gender', 'importType', 'industry',\n",
       "       'interviewTime', 'jobIntentStatus', 'languageSkills', 'languages',\n",
       "       'location', 'maintainerId', 'majorName', 'maritalStatus', 'name',\n",
       "       'ownerId', 'resignReason', 'schoolName', 'selfEvaluation', 'skills',\n",
       "       'sourceId', 'sourceSite', 'sourceType', 'tenantId', 'uncompletedField',\n",
       "       'updatedAt', 'updatedBy', 'updatedTime', 'uploaderId', 'version',\n",
       "       'workYear', 'avatar', 'eduTracks', 'jobTracks', 'projectTracks',\n",
       "       'ds.1'],\n",
       "      dtype='object')"
      ]
     },
     "execution_count": 3,
     "metadata": {},
     "output_type": "execute_result"
    }
   ],
   "source": [
    "all_data.columns"
   ]
  },
  {
   "cell_type": "code",
   "execution_count": 4,
   "metadata": {},
   "outputs": [],
   "source": [
    "# min_annual_salary和max_annual_salary的缺失值太严重了\n",
    "jd_salary_columns = ['min_annual_salary', 'max_annual_salary', 'min_month_salary', 'max_month_salary', 'pay_months']\n",
    "\n",
    "#jd_salary_columns = ['min_month_salary', 'max_month_salary', 'pay_months']\n",
    "cv_salary_columns = ['currentSalary', 'desiredSalary']"
   ]
  },
  {
   "cell_type": "code",
   "execution_count": 5,
   "metadata": {},
   "outputs": [
    {
     "name": "stdout",
     "output_type": "stream",
     "text": [
      "<class 'pandas.core.frame.DataFrame'>\n",
      "RangeIndex: 81296 entries, 0 to 81295\n",
      "Data columns (total 5 columns):\n",
      " #   Column             Non-Null Count  Dtype  \n",
      "---  ------             --------------  -----  \n",
      " 0   min_annual_salary  2758 non-null   float64\n",
      " 1   max_annual_salary  2758 non-null   float64\n",
      " 2   min_month_salary   78538 non-null  float64\n",
      " 3   max_month_salary   78538 non-null  float64\n",
      " 4   pay_months         78538 non-null  float64\n",
      "dtypes: float64(5)\n",
      "memory usage: 3.1 MB\n"
     ]
    }
   ],
   "source": [
    "# 是不是因为jd的数据比较规范，所以这里的的salary特征覆盖率很高\n",
    "all_data[jd_salary_columns].info()"
   ]
  },
  {
   "cell_type": "code",
   "execution_count": 8,
   "metadata": {},
   "outputs": [
    {
     "data": {
      "text/plain": [
       "0.9660745916158237"
      ]
     },
     "execution_count": 8,
     "metadata": {},
     "output_type": "execute_result"
    }
   ],
   "source": [
    "78538/81296"
   ]
  },
  {
   "cell_type": "code",
   "execution_count": 6,
   "metadata": {},
   "outputs": [
    {
     "data": {
      "text/html": [
       "<div>\n",
       "<style scoped>\n",
       "    .dataframe tbody tr th:only-of-type {\n",
       "        vertical-align: middle;\n",
       "    }\n",
       "\n",
       "    .dataframe tbody tr th {\n",
       "        vertical-align: top;\n",
       "    }\n",
       "\n",
       "    .dataframe thead th {\n",
       "        text-align: right;\n",
       "    }\n",
       "</style>\n",
       "<table border=\"1\" class=\"dataframe\">\n",
       "  <thead>\n",
       "    <tr style=\"text-align: right;\">\n",
       "      <th></th>\n",
       "      <th>min_annual_salary</th>\n",
       "      <th>max_annual_salary</th>\n",
       "      <th>min_month_salary</th>\n",
       "      <th>max_month_salary</th>\n",
       "      <th>pay_months</th>\n",
       "    </tr>\n",
       "  </thead>\n",
       "  <tbody>\n",
       "    <tr>\n",
       "      <th>0</th>\n",
       "      <td>80.0</td>\n",
       "      <td>150.0</td>\n",
       "      <td>NaN</td>\n",
       "      <td>NaN</td>\n",
       "      <td>NaN</td>\n",
       "    </tr>\n",
       "    <tr>\n",
       "      <th>1</th>\n",
       "      <td>28.0</td>\n",
       "      <td>35.0</td>\n",
       "      <td>NaN</td>\n",
       "      <td>NaN</td>\n",
       "      <td>NaN</td>\n",
       "    </tr>\n",
       "    <tr>\n",
       "      <th>2</th>\n",
       "      <td>25.0</td>\n",
       "      <td>35.0</td>\n",
       "      <td>NaN</td>\n",
       "      <td>NaN</td>\n",
       "      <td>NaN</td>\n",
       "    </tr>\n",
       "    <tr>\n",
       "      <th>3</th>\n",
       "      <td>60.0</td>\n",
       "      <td>500.0</td>\n",
       "      <td>NaN</td>\n",
       "      <td>NaN</td>\n",
       "      <td>NaN</td>\n",
       "    </tr>\n",
       "    <tr>\n",
       "      <th>4</th>\n",
       "      <td>NaN</td>\n",
       "      <td>NaN</td>\n",
       "      <td>25.0</td>\n",
       "      <td>45.0</td>\n",
       "      <td>12.0</td>\n",
       "    </tr>\n",
       "    <tr>\n",
       "      <th>...</th>\n",
       "      <td>...</td>\n",
       "      <td>...</td>\n",
       "      <td>...</td>\n",
       "      <td>...</td>\n",
       "      <td>...</td>\n",
       "    </tr>\n",
       "    <tr>\n",
       "      <th>81291</th>\n",
       "      <td>NaN</td>\n",
       "      <td>NaN</td>\n",
       "      <td>10.0</td>\n",
       "      <td>15.0</td>\n",
       "      <td>12.0</td>\n",
       "    </tr>\n",
       "    <tr>\n",
       "      <th>81292</th>\n",
       "      <td>NaN</td>\n",
       "      <td>NaN</td>\n",
       "      <td>100.0</td>\n",
       "      <td>120.0</td>\n",
       "      <td>12.0</td>\n",
       "    </tr>\n",
       "    <tr>\n",
       "      <th>81293</th>\n",
       "      <td>NaN</td>\n",
       "      <td>NaN</td>\n",
       "      <td>50.0</td>\n",
       "      <td>60.0</td>\n",
       "      <td>13.0</td>\n",
       "    </tr>\n",
       "    <tr>\n",
       "      <th>81294</th>\n",
       "      <td>NaN</td>\n",
       "      <td>NaN</td>\n",
       "      <td>15.0</td>\n",
       "      <td>30.0</td>\n",
       "      <td>14.0</td>\n",
       "    </tr>\n",
       "    <tr>\n",
       "      <th>81295</th>\n",
       "      <td>NaN</td>\n",
       "      <td>NaN</td>\n",
       "      <td>10.0</td>\n",
       "      <td>15.0</td>\n",
       "      <td>12.0</td>\n",
       "    </tr>\n",
       "  </tbody>\n",
       "</table>\n",
       "<p>81296 rows × 5 columns</p>\n",
       "</div>"
      ],
      "text/plain": [
       "       min_annual_salary  max_annual_salary  min_month_salary  \\\n",
       "0                   80.0              150.0               NaN   \n",
       "1                   28.0               35.0               NaN   \n",
       "2                   25.0               35.0               NaN   \n",
       "3                   60.0              500.0               NaN   \n",
       "4                    NaN                NaN              25.0   \n",
       "...                  ...                ...               ...   \n",
       "81291                NaN                NaN              10.0   \n",
       "81292                NaN                NaN             100.0   \n",
       "81293                NaN                NaN              50.0   \n",
       "81294                NaN                NaN              15.0   \n",
       "81295                NaN                NaN              10.0   \n",
       "\n",
       "       max_month_salary  pay_months  \n",
       "0                   NaN         NaN  \n",
       "1                   NaN         NaN  \n",
       "2                   NaN         NaN  \n",
       "3                   NaN         NaN  \n",
       "4                  45.0        12.0  \n",
       "...                 ...         ...  \n",
       "81291              15.0        12.0  \n",
       "81292             120.0        12.0  \n",
       "81293              60.0        13.0  \n",
       "81294              30.0        14.0  \n",
       "81295              15.0        12.0  \n",
       "\n",
       "[81296 rows x 5 columns]"
      ]
     },
     "execution_count": 6,
     "metadata": {},
     "output_type": "execute_result"
    }
   ],
   "source": [
    "# 从数字上看，月薪的单位是k\n",
    "all_data[jd_salary_columns]"
   ]
  },
  {
   "cell_type": "code",
   "execution_count": 16,
   "metadata": {},
   "outputs": [
    {
     "data": {
      "text/plain": [
       "cv_id                             8a69d7c282199453018247bac4a36859\n",
       "jd_id                             8a69c468826ee9b40182831bedfc5e79\n",
       "jd_code                                     JD20220809225701866333\n",
       "title                                                       中央市场总监\n",
       "deadline                                                       NaN\n",
       "                                       ...                        \n",
       "avatar                                                         NaN\n",
       "eduTracks        ['{\"schoolTag\": \"211\", \"endDate\": \"1999-07\", \"...\n",
       "jobTracks        ['{\"endDate\": \"2022-07\", \"companyName\": \"上海微创医...\n",
       "projectTracks                                   ['{\"name\": null}']\n",
       "ds.1                                                      20220821\n",
       "Name: 81292, Length: 86, dtype: object"
      ]
     },
     "execution_count": 16,
     "metadata": {},
     "output_type": "execute_result"
    }
   ],
   "source": [
    "# 这个例子的月薪范围[100, 120]，符合预期\n",
    "all_data.iloc[81292]"
   ]
  },
  {
   "cell_type": "code",
   "execution_count": 9,
   "metadata": {},
   "outputs": [
    {
     "name": "stdout",
     "output_type": "stream",
     "text": [
      "<class 'pandas.core.frame.DataFrame'>\n",
      "RangeIndex: 81296 entries, 0 to 81295\n",
      "Data columns (total 2 columns):\n",
      " #   Column         Non-Null Count  Dtype \n",
      "---  ------         --------------  ----- \n",
      " 0   currentSalary  35324 non-null  object\n",
      " 1   desiredSalary  43456 non-null  object\n",
      "dtypes: object(2)\n",
      "memory usage: 1.2+ MB\n"
     ]
    }
   ],
   "source": [
    "# cv的salary覆盖率不到一半啊\n",
    "all_data[cv_salary_columns].info()"
   ]
  },
  {
   "cell_type": "code",
   "execution_count": 11,
   "metadata": {},
   "outputs": [
    {
     "data": {
      "text/plain": [
       "0.5345404447943318"
      ]
     },
     "execution_count": 11,
     "metadata": {},
     "output_type": "execute_result"
    }
   ],
   "source": [
    "43456/81296"
   ]
  },
  {
   "cell_type": "code",
   "execution_count": 13,
   "metadata": {},
   "outputs": [
    {
     "data": {
      "text/html": [
       "<div>\n",
       "<style scoped>\n",
       "    .dataframe tbody tr th:only-of-type {\n",
       "        vertical-align: middle;\n",
       "    }\n",
       "\n",
       "    .dataframe tbody tr th {\n",
       "        vertical-align: top;\n",
       "    }\n",
       "\n",
       "    .dataframe thead th {\n",
       "        text-align: right;\n",
       "    }\n",
       "</style>\n",
       "<table border=\"1\" class=\"dataframe\">\n",
       "  <thead>\n",
       "    <tr style=\"text-align: right;\">\n",
       "      <th></th>\n",
       "      <th>currentSalary</th>\n",
       "      <th>desiredSalary</th>\n",
       "    </tr>\n",
       "  </thead>\n",
       "  <tbody>\n",
       "    <tr>\n",
       "      <th>0</th>\n",
       "      <td>NaN</td>\n",
       "      <td>NaN</td>\n",
       "    </tr>\n",
       "    <tr>\n",
       "      <th>1</th>\n",
       "      <td>NaN</td>\n",
       "      <td>NaN</td>\n",
       "    </tr>\n",
       "    <tr>\n",
       "      <th>2</th>\n",
       "      <td>NaN</td>\n",
       "      <td>NaN</td>\n",
       "    </tr>\n",
       "    <tr>\n",
       "      <th>3</th>\n",
       "      <td>NaN</td>\n",
       "      <td>NaN</td>\n",
       "    </tr>\n",
       "    <tr>\n",
       "      <th>4</th>\n",
       "      <td>保密</td>\n",
       "      <td>25 - 30k · 15薪</td>\n",
       "    </tr>\n",
       "    <tr>\n",
       "      <th>...</th>\n",
       "      <td>...</td>\n",
       "      <td>...</td>\n",
       "    </tr>\n",
       "    <tr>\n",
       "      <th>81291</th>\n",
       "      <td>6000</td>\n",
       "      <td>6千-8千/月</td>\n",
       "    </tr>\n",
       "    <tr>\n",
       "      <th>81292</th>\n",
       "      <td>60+期权</td>\n",
       "      <td>100</td>\n",
       "    </tr>\n",
       "    <tr>\n",
       "      <th>81293</th>\n",
       "      <td>60+期权</td>\n",
       "      <td>100</td>\n",
       "    </tr>\n",
       "    <tr>\n",
       "      <th>81294</th>\n",
       "      <td>25K</td>\n",
       "      <td>28K</td>\n",
       "    </tr>\n",
       "    <tr>\n",
       "      <th>81295</th>\n",
       "      <td>30万/年(20k*15)</td>\n",
       "      <td>面议</td>\n",
       "    </tr>\n",
       "  </tbody>\n",
       "</table>\n",
       "<p>81296 rows × 2 columns</p>\n",
       "</div>"
      ],
      "text/plain": [
       "       currentSalary   desiredSalary\n",
       "0                NaN             NaN\n",
       "1                NaN             NaN\n",
       "2                NaN             NaN\n",
       "3                NaN             NaN\n",
       "4                 保密  25 - 30k · 15薪\n",
       "...              ...             ...\n",
       "81291           6000         6千-8千/月\n",
       "81292          60+期权             100\n",
       "81293          60+期权             100\n",
       "81294            25K             28K\n",
       "81295  30万/年(20k*15)              面议\n",
       "\n",
       "[81296 rows x 2 columns]"
      ]
     },
     "execution_count": 13,
     "metadata": {},
     "output_type": "execute_result"
    }
   ],
   "source": [
    "cv_salary_data = all_data[cv_salary_columns]\n",
    "cv_salary_data"
   ]
  },
  {
   "cell_type": "markdown",
   "metadata": {},
   "source": [
    "### 先解析desiredSalary"
   ]
  },
  {
   "cell_type": "code",
   "execution_count": 14,
   "metadata": {},
   "outputs": [
    {
     "name": "stdout",
     "output_type": "stream",
     "text": [
      "<class 'pandas.core.frame.DataFrame'>\n",
      "RangeIndex: 81296 entries, 0 to 81295\n",
      "Data columns (total 2 columns):\n",
      " #   Column         Non-Null Count  Dtype \n",
      "---  ------         --------------  ----- \n",
      " 0   currentSalary  81296 non-null  object\n",
      " 1   desiredSalary  81296 non-null  object\n",
      "dtypes: object(2)\n",
      "memory usage: 1.2+ MB\n"
     ]
    },
    {
     "name": "stderr",
     "output_type": "stream",
     "text": [
      "/var/folders/99/wft1658s2mv39cv4wj_rcpqh0000gp/T/ipykernel_50594/2302065646.py:2: SettingWithCopyWarning: \n",
      "A value is trying to be set on a copy of a slice from a DataFrame\n",
      "\n",
      "See the caveats in the documentation: https://pandas.pydata.org/pandas-docs/stable/user_guide/indexing.html#returning-a-view-versus-a-copy\n",
      "  cv_salary_data['desiredSalary'].fillna('', inplace=True)\n",
      "/var/folders/99/wft1658s2mv39cv4wj_rcpqh0000gp/T/ipykernel_50594/2302065646.py:3: SettingWithCopyWarning: \n",
      "A value is trying to be set on a copy of a slice from a DataFrame\n",
      "\n",
      "See the caveats in the documentation: https://pandas.pydata.org/pandas-docs/stable/user_guide/indexing.html#returning-a-view-versus-a-copy\n",
      "  cv_salary_data['currentSalary'].fillna('', inplace=True)\n"
     ]
    }
   ],
   "source": [
    "# step1 desiredSalary列空值填充\n",
    "cv_salary_data['desiredSalary'].fillna('', inplace=True)\n",
    "cv_salary_data['currentSalary'].fillna('', inplace=True)\n",
    "\n",
    "cv_salary_data.info()"
   ]
  },
  {
   "cell_type": "code",
   "execution_count": 15,
   "metadata": {},
   "outputs": [
    {
     "data": {
      "text/html": [
       "<div>\n",
       "<style scoped>\n",
       "    .dataframe tbody tr th:only-of-type {\n",
       "        vertical-align: middle;\n",
       "    }\n",
       "\n",
       "    .dataframe tbody tr th {\n",
       "        vertical-align: top;\n",
       "    }\n",
       "\n",
       "    .dataframe thead th {\n",
       "        text-align: right;\n",
       "    }\n",
       "</style>\n",
       "<table border=\"1\" class=\"dataframe\">\n",
       "  <thead>\n",
       "    <tr style=\"text-align: right;\">\n",
       "      <th></th>\n",
       "      <th>currentSalary</th>\n",
       "      <th>desiredSalary</th>\n",
       "    </tr>\n",
       "  </thead>\n",
       "  <tbody>\n",
       "    <tr>\n",
       "      <th>0</th>\n",
       "      <td></td>\n",
       "      <td></td>\n",
       "    </tr>\n",
       "    <tr>\n",
       "      <th>1</th>\n",
       "      <td></td>\n",
       "      <td></td>\n",
       "    </tr>\n",
       "    <tr>\n",
       "      <th>2</th>\n",
       "      <td></td>\n",
       "      <td></td>\n",
       "    </tr>\n",
       "    <tr>\n",
       "      <th>3</th>\n",
       "      <td></td>\n",
       "      <td></td>\n",
       "    </tr>\n",
       "    <tr>\n",
       "      <th>4</th>\n",
       "      <td>保密</td>\n",
       "      <td>25 - 30k · 15薪</td>\n",
       "    </tr>\n",
       "    <tr>\n",
       "      <th>...</th>\n",
       "      <td>...</td>\n",
       "      <td>...</td>\n",
       "    </tr>\n",
       "    <tr>\n",
       "      <th>81291</th>\n",
       "      <td>6000</td>\n",
       "      <td>6千-8千/月</td>\n",
       "    </tr>\n",
       "    <tr>\n",
       "      <th>81292</th>\n",
       "      <td>60+期权</td>\n",
       "      <td>100</td>\n",
       "    </tr>\n",
       "    <tr>\n",
       "      <th>81293</th>\n",
       "      <td>60+期权</td>\n",
       "      <td>100</td>\n",
       "    </tr>\n",
       "    <tr>\n",
       "      <th>81294</th>\n",
       "      <td>25K</td>\n",
       "      <td>28K</td>\n",
       "    </tr>\n",
       "    <tr>\n",
       "      <th>81295</th>\n",
       "      <td>30万/年(20k*15)</td>\n",
       "      <td>面议</td>\n",
       "    </tr>\n",
       "  </tbody>\n",
       "</table>\n",
       "<p>81296 rows × 2 columns</p>\n",
       "</div>"
      ],
      "text/plain": [
       "       currentSalary   desiredSalary\n",
       "0                                   \n",
       "1                                   \n",
       "2                                   \n",
       "3                                   \n",
       "4                 保密  25 - 30k · 15薪\n",
       "...              ...             ...\n",
       "81291           6000         6千-8千/月\n",
       "81292          60+期权             100\n",
       "81293          60+期权             100\n",
       "81294            25K             28K\n",
       "81295  30万/年(20k*15)              面议\n",
       "\n",
       "[81296 rows x 2 columns]"
      ]
     },
     "execution_count": 15,
     "metadata": {},
     "output_type": "execute_result"
    }
   ],
   "source": [
    "# 其实是有值的，''，看不见而已\n",
    "cv_salary_data"
   ]
  },
  {
   "cell_type": "code",
   "execution_count": 18,
   "metadata": {},
   "outputs": [
    {
     "name": "stderr",
     "output_type": "stream",
     "text": [
      "/var/folders/99/wft1658s2mv39cv4wj_rcpqh0000gp/T/ipykernel_50594/4131299421.py:75: SettingWithCopyWarning: \n",
      "A value is trying to be set on a copy of a slice from a DataFrame.\n",
      "Try using .loc[row_indexer,col_indexer] = value instead\n",
      "\n",
      "See the caveats in the documentation: https://pandas.pydata.org/pandas-docs/stable/user_guide/indexing.html#returning-a-view-versus-a-copy\n",
      "  cv_salary_data['parsed_desiredSalary'] = cv_salary_data.apply(get_salary_year_cv, axis=1, args=('desiredSalary', ))\n",
      "/var/folders/99/wft1658s2mv39cv4wj_rcpqh0000gp/T/ipykernel_50594/4131299421.py:76: SettingWithCopyWarning: \n",
      "A value is trying to be set on a copy of a slice from a DataFrame.\n",
      "Try using .loc[row_indexer,col_indexer] = value instead\n",
      "\n",
      "See the caveats in the documentation: https://pandas.pydata.org/pandas-docs/stable/user_guide/indexing.html#returning-a-view-versus-a-copy\n",
      "  cv_salary_data['parsed_currentSalary'] = cv_salary_data.apply(get_salary_year_cv, axis=1, args=('currentSalary', ))\n"
     ]
    },
    {
     "data": {
      "text/html": [
       "<div>\n",
       "<style scoped>\n",
       "    .dataframe tbody tr th:only-of-type {\n",
       "        vertical-align: middle;\n",
       "    }\n",
       "\n",
       "    .dataframe tbody tr th {\n",
       "        vertical-align: top;\n",
       "    }\n",
       "\n",
       "    .dataframe thead th {\n",
       "        text-align: right;\n",
       "    }\n",
       "</style>\n",
       "<table border=\"1\" class=\"dataframe\">\n",
       "  <thead>\n",
       "    <tr style=\"text-align: right;\">\n",
       "      <th></th>\n",
       "      <th>currentSalary</th>\n",
       "      <th>desiredSalary</th>\n",
       "      <th>parsed_desiredSalary</th>\n",
       "      <th>parsed_currentSalary</th>\n",
       "    </tr>\n",
       "  </thead>\n",
       "  <tbody>\n",
       "    <tr>\n",
       "      <th>0</th>\n",
       "      <td></td>\n",
       "      <td></td>\n",
       "      <td>-1</td>\n",
       "      <td>-1</td>\n",
       "    </tr>\n",
       "    <tr>\n",
       "      <th>1</th>\n",
       "      <td></td>\n",
       "      <td></td>\n",
       "      <td>-1</td>\n",
       "      <td>-1</td>\n",
       "    </tr>\n",
       "    <tr>\n",
       "      <th>2</th>\n",
       "      <td></td>\n",
       "      <td></td>\n",
       "      <td>-1</td>\n",
       "      <td>-1</td>\n",
       "    </tr>\n",
       "    <tr>\n",
       "      <th>3</th>\n",
       "      <td></td>\n",
       "      <td></td>\n",
       "      <td>-1</td>\n",
       "      <td>-1</td>\n",
       "    </tr>\n",
       "    <tr>\n",
       "      <th>4</th>\n",
       "      <td>保密</td>\n",
       "      <td>25 - 30k · 15薪</td>\n",
       "      <td>450</td>\n",
       "      <td>-1</td>\n",
       "    </tr>\n",
       "    <tr>\n",
       "      <th>...</th>\n",
       "      <td>...</td>\n",
       "      <td>...</td>\n",
       "      <td>...</td>\n",
       "      <td>...</td>\n",
       "    </tr>\n",
       "    <tr>\n",
       "      <th>81291</th>\n",
       "      <td>6000</td>\n",
       "      <td>6千-8千/月</td>\n",
       "      <td>-1</td>\n",
       "      <td>-1</td>\n",
       "    </tr>\n",
       "    <tr>\n",
       "      <th>81292</th>\n",
       "      <td>60+期权</td>\n",
       "      <td>100</td>\n",
       "      <td>-1</td>\n",
       "      <td>-1</td>\n",
       "    </tr>\n",
       "    <tr>\n",
       "      <th>81293</th>\n",
       "      <td>60+期权</td>\n",
       "      <td>100</td>\n",
       "      <td>-1</td>\n",
       "      <td>-1</td>\n",
       "    </tr>\n",
       "    <tr>\n",
       "      <th>81294</th>\n",
       "      <td>25K</td>\n",
       "      <td>28K</td>\n",
       "      <td>336</td>\n",
       "      <td>300</td>\n",
       "    </tr>\n",
       "    <tr>\n",
       "      <th>81295</th>\n",
       "      <td>30万/年(20k*15)</td>\n",
       "      <td>面议</td>\n",
       "      <td>-1</td>\n",
       "      <td>300</td>\n",
       "    </tr>\n",
       "  </tbody>\n",
       "</table>\n",
       "<p>81296 rows × 4 columns</p>\n",
       "</div>"
      ],
      "text/plain": [
       "       currentSalary   desiredSalary  parsed_desiredSalary  \\\n",
       "0                                                       -1   \n",
       "1                                                       -1   \n",
       "2                                                       -1   \n",
       "3                                                       -1   \n",
       "4                 保密  25 - 30k · 15薪                   450   \n",
       "...              ...             ...                   ...   \n",
       "81291           6000         6千-8千/月                    -1   \n",
       "81292          60+期权             100                    -1   \n",
       "81293          60+期权             100                    -1   \n",
       "81294            25K             28K                   336   \n",
       "81295  30万/年(20k*15)              面议                    -1   \n",
       "\n",
       "       parsed_currentSalary  \n",
       "0                        -1  \n",
       "1                        -1  \n",
       "2                        -1  \n",
       "3                        -1  \n",
       "4                        -1  \n",
       "...                     ...  \n",
       "81291                    -1  \n",
       "81292                    -1  \n",
       "81293                    -1  \n",
       "81294                   300  \n",
       "81295                   300  \n",
       "\n",
       "[81296 rows x 4 columns]"
      ]
     },
     "execution_count": 18,
     "metadata": {},
     "output_type": "execute_result"
    }
   ],
   "source": [
    "def get_salary_year_cv(series, salary_col):\n",
    "    \"\"\"\n",
    "    获取年薪的数字,以k为单位\n",
    "    \"\"\"\n",
    "    salary = series[salary_col]\n",
    "\n",
    "    # 转中文简体\n",
    "    salary = convert(salary, \"zh-hans\")\n",
    "    # 转英文小写\n",
    "    salary = salary.lower()\n",
    "\n",
    "    # case 10.5k*15.5\n",
    "    res = re.search(r'(\\d+\\.*\\d*)([k,w])[\\*,x,·, ]+(\\d+\\.*\\d*)', salary)\n",
    "    if res:\n",
    "        num1 = float(res.group(1))\n",
    "        unit = res.group(2)\n",
    "        num3 = float(res.group(3))\n",
    "        #print(num1, unit, num3)\n",
    "        salary_year = int(num1 * num3) \n",
    "        return salary_year if unit == \"k\" else 10 * salary_year\n",
    "    \n",
    "    # case 10.5*15.5k\n",
    "    res = re.search(r'(\\d+\\.*\\d*)[\\*,x,·, ]+(\\d+\\.*\\d*)([k,w])', salary)\n",
    "    if res:\n",
    "        num1 = float(res.group(1))\n",
    "        num2 = float(res.group(2))\n",
    "        unit = res.group(3)\n",
    "        #print(num1, num2, unit)\n",
    "        salary_year = int(num1 * num2) \n",
    "        return salary_year if unit == \"k\" else 10 * salary_year\n",
    "\n",
    "    # case 10万/年\n",
    "    res = re.search(r'(\\d+)([万,w,元])/年', salary)\n",
    "    if res:\n",
    "        num = float(res.group(1))\n",
    "        unit = res.group(2)\n",
    "        salary_year = int(num * 10) if unit in ['万', 'w'] else int(num / 1000)\n",
    "        return salary_year\n",
    "    \n",
    "    # case 10w/月\n",
    "    res = re.search(r'(\\d+)([万,w,元])/月', salary)\n",
    "    if res:\n",
    "        num = float(res.group(1))\n",
    "        unit = res.group(2)\n",
    "        # 默认12个月\n",
    "        salary_year = int(num * 10) * 12 if unit in ['万', 'w'] else int(num / 1000) * 12\n",
    "        return salary_year\n",
    " \n",
    "    # 30k\n",
    "    res = re.search(r'(\\d+)k', salary)\n",
    "    if res:\n",
    "        num = float(res.group(1))\n",
    "        # 默认12个月\n",
    "        salary_year = int(num * 12)\n",
    "        return salary_year\n",
    "    \n",
    "    # 42万\n",
    "    res = re.search(r'(\\d+)[万,w]', salary)\n",
    "    if res:\n",
    "        num = float(res.group(1))\n",
    "        salary_year = int(num * 10)\n",
    "        return salary_year\n",
    "\n",
    "    # 9000元/月*12月\n",
    "    res = re.search(r'(\\d+)元/月[\\*,x,·, ]+(\\d+)', salary)\n",
    "    if res:\n",
    "        num1 = float(res.group(1))\n",
    "        num2 = float(res.group(2))\n",
    "        salary_year = int(num1 * num3 / 1000) \n",
    "        return salary_year\n",
    "    \n",
    "    # 都没匹配上\n",
    "    return -1\n",
    "\n",
    "cv_salary_data['parsed_desiredSalary'] = cv_salary_data.apply(get_salary_year_cv, axis=1, args=('desiredSalary', ))\n",
    "cv_salary_data['parsed_currentSalary'] = cv_salary_data.apply(get_salary_year_cv, axis=1, args=('currentSalary', ))\n",
    "\n",
    "cv_salary_data\n"
   ]
  },
  {
   "cell_type": "code",
   "execution_count": 17,
   "metadata": {},
   "outputs": [
    {
     "name": "stdout",
     "output_type": "stream",
     "text": [
      "parsed_desiredSalary的覆盖率:  0.3526618775831529\n",
      "parsed_currentSalary的覆盖率:  0.33888506199567014\n"
     ]
    }
   ],
   "source": [
    "# parsed_desiredSalary的覆盖率\n",
    "parsed_num = 0\n",
    "for index, salary in enumerate(cv_salary_data['parsed_desiredSalary']):\n",
    "    if salary == -1:\n",
    "        continue\n",
    "    parsed_num += 1\n",
    "    # 看看是哪些行的salary被解析出来了\n",
    "    # print('{}: {}'.format(index, salary))\n",
    "\n",
    "all_num = 81296\n",
    "print('parsed_desiredSalary的覆盖率: ', parsed_num / all_num)\n",
    "\n",
    "# parsed_currentSalary的覆盖率\n",
    "parsed_num = 0\n",
    "for index, salary in enumerate(cv_salary_data['parsed_currentSalary']):\n",
    "    if salary == -1:\n",
    "        continue\n",
    "    parsed_num += 1\n",
    "    # 看看是哪些行的salary被解析出来了\n",
    "    # print('{}: {}'.format(index, salary))\n",
    "\n",
    "# parsed_desiredSalary的覆盖率\n",
    "all_num = 81296\n",
    "print('parsed_currentSalary的覆盖率: ', parsed_num / all_num)"
   ]
  },
  {
   "cell_type": "code",
   "execution_count": 43,
   "metadata": {},
   "outputs": [
    {
     "data": {
      "text/plain": [
       "0.3526618775831529"
      ]
     },
     "execution_count": 43,
     "metadata": {},
     "output_type": "execute_result"
    }
   ],
   "source": []
  },
  {
   "cell_type": "code",
   "execution_count": 58,
   "metadata": {},
   "outputs": [
    {
     "data": {
      "text/plain": [
       "currentSalary           25000~35000元/月\n",
       "desiredSalary           35000-50000元/月\n",
       "parsed_desiredSalary               600\n",
       "parsed_currentSalary               420\n",
       "Name: 129, dtype: object"
      ]
     },
     "execution_count": 58,
     "metadata": {},
     "output_type": "execute_result"
    }
   ],
   "source": [
    "cv_salary_data.iloc[129]"
   ]
  },
  {
   "cell_type": "code",
   "execution_count": 59,
   "metadata": {},
   "outputs": [
    {
     "data": {
      "text/plain": [
       "420"
      ]
     },
     "execution_count": 59,
     "metadata": {},
     "output_type": "execute_result"
    }
   ],
   "source": [
    "35*12"
   ]
  }
 ],
 "metadata": {
  "kernelspec": {
   "display_name": "Python 3.9.12 ('base')",
   "language": "python",
   "name": "python3"
  },
  "language_info": {
   "codemirror_mode": {
    "name": "ipython",
    "version": 3
   },
   "file_extension": ".py",
   "mimetype": "text/x-python",
   "name": "python",
   "nbconvert_exporter": "python",
   "pygments_lexer": "ipython3",
   "version": "3.9.12"
  },
  "orig_nbformat": 4,
  "vscode": {
   "interpreter": {
    "hash": "f63f3fa61251d3530929b90a6fd0ac6d4fd28461cb09a64c4fa1d09fc6d068be"
   }
  }
 },
 "nbformat": 4,
 "nbformat_minor": 2
}
