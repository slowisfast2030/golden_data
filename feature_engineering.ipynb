{
 "cells": [
  {
   "cell_type": "code",
   "execution_count": 1,
   "metadata": {},
   "outputs": [
    {
     "data": {
      "text/plain": [
       "Index(['Unnamed: 0', 'cv_id', 'jd_id', 'tags', 'skills'], dtype='object')"
      ]
     },
     "execution_count": 1,
     "metadata": {},
     "output_type": "execute_result"
    }
   ],
   "source": [
    "import numpy as np\n",
    "import pandas as pd\n",
    "sample_20220821 = pd.read_csv('./sample_20220821_spark.csv')\n",
    "sample_20220821.columns"
   ]
  },
  {
   "cell_type": "code",
   "execution_count": 43,
   "metadata": {},
   "outputs": [
    {
     "data": {
      "text/plain": [
       "0        [\"Ai\",\"Ar\",\"App\",\"优化\",\"营销\",\"策划\",\"运营\",\"搭建\",\"电商\"...\n",
       "1                                       [\"it规划咨询\",\"云计算咨询\"]\n",
       "2        [\"VC\",\"PPT\",\"SQL\",\"VBA\",\"Kpi\",\"Excel\",\"C/C++\",...\n",
       "3        [\"Vi\",\"Pr\",\"App\",\"Crm\",\"优化\",\"策划\",\"营销\",\"搭建\",\"融资...\n",
       "4        [\"PPT\",\"Word\",\"Excel\",\"Visio\",\"营销\",\"运营\",\"搭建\",\"...\n",
       "                               ...                        \n",
       "81291    O2O,Erp,Wms,Kpi,优化,运营,搭建,驾驶,电商,性能,架构,招投标,施工图,绩...\n",
       "81292                          Zcool,电商,优化,搭建,装修,页面设计,平面设计\n",
       "81293                     C1,C4D,Icon,舞蹈,美术,项目经理,视频制作,沟通能力\n",
       "81294                             制药,内科,配置,策划,美容,团队销售,生物医药\n",
       "81295    Top,Bom,优化,电气,仿真,消防,搭建,招聘,电站,迭代,普通话,系统集成,系统测试,...\n",
       "Name: skills, Length: 81296, dtype: object"
      ]
     },
     "execution_count": 43,
     "metadata": {},
     "output_type": "execute_result"
    }
   ],
   "source": [
    "sample_20220821['skills']"
   ]
  },
  {
   "cell_type": "code",
   "execution_count": 3,
   "metadata": {},
   "outputs": [
    {
     "data": {
      "text/plain": [
       "0                     [\"市场策划\",\"管理\",\"推广\",\"营销\",\"品牌推广\"]\n",
       "1                   [\"销售\",\"团队管理\",\"市场推广\",\"AI\",\"负责管理\"]\n",
       "2                            [\"投资\",\"临床\",\"生物\",\"生物医药\"]\n",
       "3                  [\"运营\",\"产品运营\",\"内容运营\",\"美工\",\"互联网产品\"]\n",
       "4                      [\"架构\",\"数字化\",\"管理\",\"云计算\",\"区块链\"]\n",
       "                            ...                     \n",
       "81291                   [\"仓储\",\"物流\",\"管理\",\"沟通能力\",\"软件\"]\n",
       "81292    [\"Photoshop\",\"Coredraw\",\"AI\",\"3D工业软件\",\"软件\"]\n",
       "81293                   [\"游戏\",\"动画设计\",\"审核\",\"美术\",\"软件\"]\n",
       "81294                 [\"沟通能力\",\"归档\",\"法规\",\"评审\",\"产品开发\"]\n",
       "81295                 [\"结构设计\",\"管理\",\"审核\",\"软件\",\"管理工作\"]\n",
       "Name: tags, Length: 81296, dtype: object"
      ]
     },
     "execution_count": 3,
     "metadata": {},
     "output_type": "execute_result"
    }
   ],
   "source": [
    "sample_20220821['tags']"
   ]
  },
  {
   "cell_type": "code",
   "execution_count": 27,
   "metadata": {},
   "outputs": [
    {
     "data": {
      "text/plain": [
       "Unnamed: 0                                                  222\n",
       "cv_id                          2c920715802399a801802780282b1c4a\n",
       "jd_id                          2c920715800e886301801d85fe8c78e6\n",
       "tags                                                        NaN\n",
       "skills        [\"PPT\",\"Word\",\"Excel\",\"数据分析\",\"沟通能力\",\"财务管理\",\"管理...\n",
       "Name: 222, dtype: object"
      ]
     },
     "execution_count": 27,
     "metadata": {},
     "output_type": "execute_result"
    }
   ],
   "source": [
    "sample_20220821.iloc[222]"
   ]
  },
  {
   "cell_type": "code",
   "execution_count": 28,
   "metadata": {},
   "outputs": [
    {
     "data": {
      "text/plain": [
       "Unnamed: 0    81296\n",
       "cv_id         81296\n",
       "jd_id         81296\n",
       "tags          80589\n",
       "skills        74527\n",
       "dtype: int64"
      ]
     },
     "execution_count": 28,
     "metadata": {},
     "output_type": "execute_result"
    }
   ],
   "source": [
    "sample_20220821.count()"
   ]
  },
  {
   "cell_type": "code",
   "execution_count": 34,
   "metadata": {},
   "outputs": [
    {
     "data": {
      "text/plain": [
       "(81296, 5)"
      ]
     },
     "execution_count": 34,
     "metadata": {},
     "output_type": "execute_result"
    }
   ],
   "source": [
    "sample_20220821.shape"
   ]
  },
  {
   "cell_type": "code",
   "execution_count": 38,
   "metadata": {},
   "outputs": [
    {
     "data": {
      "text/html": [
       "<div>\n",
       "<style scoped>\n",
       "    .dataframe tbody tr th:only-of-type {\n",
       "        vertical-align: middle;\n",
       "    }\n",
       "\n",
       "    .dataframe tbody tr th {\n",
       "        vertical-align: top;\n",
       "    }\n",
       "\n",
       "    .dataframe thead th {\n",
       "        text-align: right;\n",
       "    }\n",
       "</style>\n",
       "<table border=\"1\" class=\"dataframe\">\n",
       "  <thead>\n",
       "    <tr style=\"text-align: right;\">\n",
       "      <th></th>\n",
       "      <th>tags</th>\n",
       "    </tr>\n",
       "  </thead>\n",
       "  <tbody>\n",
       "    <tr>\n",
       "      <th>0</th>\n",
       "      <td>[\"市场策划\",\"管理\",\"推广\",\"营销\",\"品牌推广\"]</td>\n",
       "    </tr>\n",
       "    <tr>\n",
       "      <th>1</th>\n",
       "      <td>[\"销售\",\"团队管理\",\"市场推广\",\"AI\",\"负责管理\"]</td>\n",
       "    </tr>\n",
       "    <tr>\n",
       "      <th>2</th>\n",
       "      <td>[\"投资\",\"临床\",\"生物\",\"生物医药\"]</td>\n",
       "    </tr>\n",
       "    <tr>\n",
       "      <th>3</th>\n",
       "      <td>[\"运营\",\"产品运营\",\"内容运营\",\"美工\",\"互联网产品\"]</td>\n",
       "    </tr>\n",
       "    <tr>\n",
       "      <th>4</th>\n",
       "      <td>[\"架构\",\"数字化\",\"管理\",\"云计算\",\"区块链\"]</td>\n",
       "    </tr>\n",
       "    <tr>\n",
       "      <th>...</th>\n",
       "      <td>...</td>\n",
       "    </tr>\n",
       "    <tr>\n",
       "      <th>81291</th>\n",
       "      <td>[\"仓储\",\"物流\",\"管理\",\"沟通能力\",\"软件\"]</td>\n",
       "    </tr>\n",
       "    <tr>\n",
       "      <th>81292</th>\n",
       "      <td>[\"Photoshop\",\"Coredraw\",\"AI\",\"3D工业软件\",\"软件\"]</td>\n",
       "    </tr>\n",
       "    <tr>\n",
       "      <th>81293</th>\n",
       "      <td>[\"游戏\",\"动画设计\",\"审核\",\"美术\",\"软件\"]</td>\n",
       "    </tr>\n",
       "    <tr>\n",
       "      <th>81294</th>\n",
       "      <td>[\"沟通能力\",\"归档\",\"法规\",\"评审\",\"产品开发\"]</td>\n",
       "    </tr>\n",
       "    <tr>\n",
       "      <th>81295</th>\n",
       "      <td>[\"结构设计\",\"管理\",\"审核\",\"软件\",\"管理工作\"]</td>\n",
       "    </tr>\n",
       "  </tbody>\n",
       "</table>\n",
       "<p>80589 rows × 1 columns</p>\n",
       "</div>"
      ],
      "text/plain": [
       "                                              tags\n",
       "0                   [\"市场策划\",\"管理\",\"推广\",\"营销\",\"品牌推广\"]\n",
       "1                 [\"销售\",\"团队管理\",\"市场推广\",\"AI\",\"负责管理\"]\n",
       "2                          [\"投资\",\"临床\",\"生物\",\"生物医药\"]\n",
       "3                [\"运营\",\"产品运营\",\"内容运营\",\"美工\",\"互联网产品\"]\n",
       "4                    [\"架构\",\"数字化\",\"管理\",\"云计算\",\"区块链\"]\n",
       "...                                            ...\n",
       "81291                 [\"仓储\",\"物流\",\"管理\",\"沟通能力\",\"软件\"]\n",
       "81292  [\"Photoshop\",\"Coredraw\",\"AI\",\"3D工业软件\",\"软件\"]\n",
       "81293                 [\"游戏\",\"动画设计\",\"审核\",\"美术\",\"软件\"]\n",
       "81294               [\"沟通能力\",\"归档\",\"法规\",\"评审\",\"产品开发\"]\n",
       "81295               [\"结构设计\",\"管理\",\"审核\",\"软件\",\"管理工作\"]\n",
       "\n",
       "[80589 rows x 1 columns]"
      ]
     },
     "execution_count": 38,
     "metadata": {},
     "output_type": "execute_result"
    }
   ],
   "source": [
    "sample_20220821[['tags']].dropna()"
   ]
  },
  {
   "cell_type": "code",
   "execution_count": 39,
   "metadata": {},
   "outputs": [
    {
     "data": {
      "text/plain": [
       "0                     [\"市场策划\",\"管理\",\"推广\",\"营销\",\"品牌推广\"]\n",
       "1                   [\"销售\",\"团队管理\",\"市场推广\",\"AI\",\"负责管理\"]\n",
       "2                            [\"投资\",\"临床\",\"生物\",\"生物医药\"]\n",
       "3                  [\"运营\",\"产品运营\",\"内容运营\",\"美工\",\"互联网产品\"]\n",
       "4                      [\"架构\",\"数字化\",\"管理\",\"云计算\",\"区块链\"]\n",
       "                            ...                     \n",
       "81291                   [\"仓储\",\"物流\",\"管理\",\"沟通能力\",\"软件\"]\n",
       "81292    [\"Photoshop\",\"Coredraw\",\"AI\",\"3D工业软件\",\"软件\"]\n",
       "81293                   [\"游戏\",\"动画设计\",\"审核\",\"美术\",\"软件\"]\n",
       "81294                 [\"沟通能力\",\"归档\",\"法规\",\"评审\",\"产品开发\"]\n",
       "81295                 [\"结构设计\",\"管理\",\"审核\",\"软件\",\"管理工作\"]\n",
       "Name: tags, Length: 80589, dtype: object"
      ]
     },
     "execution_count": 39,
     "metadata": {},
     "output_type": "execute_result"
    }
   ],
   "source": [
    "sample_20220821['tags'].dropna()"
   ]
  },
  {
   "cell_type": "code",
   "execution_count": null,
   "metadata": {},
   "outputs": [],
   "source": []
  },
  {
   "cell_type": "code",
   "execution_count": null,
   "metadata": {},
   "outputs": [],
   "source": []
  },
  {
   "cell_type": "code",
   "execution_count": 28,
   "metadata": {},
   "outputs": [
    {
     "data": {
      "text/plain": [
       "392003"
      ]
     },
     "execution_count": 28,
     "metadata": {},
     "output_type": "execute_result"
    }
   ],
   "source": [
    "import numpy as np\n",
    "import pandas as pd\n",
    "from zhconv import convert\n",
    "\n",
    "\n",
    "sample_20220821 = pd.read_csv('./sample_20220821_spark.csv')\n",
    "\n",
    "# 获取tags列出现的所有的tag\n",
    "import json\n",
    "tags_all = []\n",
    "\n",
    "for line in sample_20220821['tags'].dropna():\n",
    "    line = json.loads(line)\n",
    "    tags_all.extend(line)\n",
    "\n",
    "def map_fun(item):\n",
    "    # 转中文简体\n",
    "    item = convert(item, \"zh-hans\")\n",
    "    # 转英文小写\n",
    "    item = item.lower()\n",
    "    return item\n",
    "\n",
    "tags_all = list(map(map_fun, tags_all))\n",
    "\n",
    "\n",
    "with open(\"./tags_all\", \"w\") as fo:\n",
    "    for line in tags_all:\n",
    "        fo.write(line + \"\\n\")\n",
    "\n",
    "len(tags_all)\n",
    "#linus 注意:tags_all中的每个tag仍然有分隔符，需要进一步分割。\n",
    "#linus 可以通过切词避免这种情况么？还是必须指定分隔符分割？"
   ]
  },
  {
   "cell_type": "code",
   "execution_count": 15,
   "metadata": {},
   "outputs": [
    {
     "name": "stdout",
     "output_type": "stream",
     "text": [
      "Default Mode: B/ 端/ 大客/ 客户/ 销售/ ，/ 5/ -/ 10/ 亿/ 人民/ 人民币/ 销售/ 销售额/ ，/ 海外/ 外经/ 经验/ ，/ 团队/ 管理/ 。\n"
     ]
    }
   ],
   "source": [
    "import jieba\n",
    "sen = \"我来到北京清华大学\"\n",
    "sen = \"B端大客户销售，5-10亿人民币销售额，海外经验，团队管理。\"\n",
    "seg_list = jieba.cut(sen, cut_all=True)\n",
    "print(\"Default Mode: \" + \"/ \".join(seg_list))  # 全模式"
   ]
  },
  {
   "cell_type": "code",
   "execution_count": 39,
   "metadata": {},
   "outputs": [
    {
     "name": "stdout",
     "output_type": "stream",
     "text": [
      "['filecoin', ' ', 'hello']\n",
      "Default Mode: filecoin/  / hello\n"
     ]
    }
   ],
   "source": [
    "import jieba\n",
    "sen = \"我来到北京清华大学\"\n",
    "sen = \"B端大客户销售，5-10亿人民币销售额，海外经验，团队管理。\"\n",
    "sen = \"港澳台/东南亚/欧美区域\"\n",
    "sen = \"品牌战略\"\n",
    "sen = \"filecoin hello\"\n",
    "\n",
    "seg_list = jieba.lcut(sen, cut_all=False)\n",
    "print(seg_list)\n",
    "print(\"Default Mode: \" + \"/ \".join(seg_list))  # 精确模式"
   ]
  },
  {
   "cell_type": "code",
   "execution_count": 36,
   "metadata": {},
   "outputs": [
    {
     "data": {
      "text/plain": [
       "True"
      ]
     },
     "execution_count": 36,
     "metadata": {},
     "output_type": "execute_result"
    }
   ],
   "source": [
    "'985'.isdigit()"
   ]
  },
  {
   "cell_type": "code",
   "execution_count": 42,
   "metadata": {},
   "outputs": [
    {
     "data": {
      "text/plain": [
       "2"
      ]
     },
     "execution_count": 42,
     "metadata": {},
     "output_type": "execute_result"
    }
   ],
   "source": [
    "len(\"  \")"
   ]
  },
  {
   "cell_type": "code",
   "execution_count": 46,
   "metadata": {},
   "outputs": [
    {
     "data": {
      "text/plain": [
       "['hello,world']"
      ]
     },
     "execution_count": 46,
     "metadata": {},
     "output_type": "execute_result"
    }
   ],
   "source": [
    "\"hello,world\".split(\"，,\")"
   ]
  },
  {
   "cell_type": "code",
   "execution_count": 51,
   "metadata": {},
   "outputs": [
    {
     "data": {
      "text/plain": [
       "['hello', 'w', 'orld']"
      ]
     },
     "execution_count": 51,
     "metadata": {},
     "output_type": "execute_result"
    }
   ],
   "source": [
    "import re\n",
    "test = \"hello,w，orld\"\n",
    "re.split(\",|，\", test)"
   ]
  },
  {
   "cell_type": "code",
   "execution_count": null,
   "metadata": {},
   "outputs": [],
   "source": []
  },
  {
   "cell_type": "code",
   "execution_count": 7,
   "metadata": {},
   "outputs": [
    {
     "name": "stderr",
     "output_type": "stream",
     "text": [
      "Building prefix dict from the default dictionary ...\n",
      "Dumping model to file cache /var/folders/99/wft1658s2mv39cv4wj_rcpqh0000gp/T/jieba.cache\n",
      "Loading model cost 0.910 seconds.\n",
      "Prefix dict has been built successfully.\n"
     ]
    },
    {
     "name": "stdout",
     "output_type": "stream",
     "text": [
      "Full Mode: 我/ 来到/ 北京/ 清华/ 清华大学/ 华大/ 大学\n",
      "Default Mode: 我/ 来到/ 北京/ 清华大学\n",
      "他, 来到, 了, 网易, 杭研, 大厦\n",
      "小明, 硕士, 毕业, 于, 中国, 科学, 学院, 科学院, 中国科学院, 计算, 计算所, ，, 后, 在, 日本, 京都, 大学, 日本京都大学, 深造\n"
     ]
    }
   ],
   "source": [
    "# encoding=utf-8\n",
    "import jieba\n",
    "\n",
    "# jieba.enable_paddle()# 启动paddle模式。 0.40版之后开始支持，早期版本不支持\n",
    "# strs=[\"我来到北京清华大学\",\"乒乓球拍卖完了\",\"中国科学技术大学\"]\n",
    "# for str in strs:\n",
    "#     seg_list = jieba.cut(str,use_paddle=True) # 使用paddle模式\n",
    "#     print(\"Paddle Mode: \" + '/'.join(list(seg_list)))\n",
    "\n",
    "seg_list = jieba.cut(\"我来到北京清华大学\", cut_all=True)\n",
    "print(\"Full Mode: \" + \"/ \".join(seg_list))  # 全模式\n",
    "\n",
    "seg_list = jieba.cut(\"我来到北京清华大学\", cut_all=False)\n",
    "print(\"Default Mode: \" + \"/ \".join(seg_list))  # 精确模式\n",
    "\n",
    "seg_list = jieba.cut(\"他来到了网易杭研大厦\")  # 默认是精确模式\n",
    "print(\", \".join(seg_list))\n",
    "\n",
    "seg_list = jieba.cut_for_search(\"小明硕士毕业于中国科学院计算所，后在日本京都大学深造\")  # 搜索引擎模式\n",
    "print(\", \".join(seg_list))\n",
    "\n",
    "#linus 感觉精确模式比较合适"
   ]
  },
  {
   "cell_type": "code",
   "execution_count": null,
   "metadata": {},
   "outputs": [],
   "source": [
    "# 先对所有的词转中文简体和英文小写\n",
    "# 还可以添加自定义词典"
   ]
  },
  {
   "cell_type": "code",
   "execution_count": 31,
   "metadata": {},
   "outputs": [
    {
     "data": {
      "text/plain": [
       "[1, 2, 3]"
      ]
     },
     "execution_count": 31,
     "metadata": {},
     "output_type": "execute_result"
    }
   ],
   "source": [
    "list_a = [1, 2, 3, 1, 2, 3]\n",
    "list(set(list_a))"
   ]
  },
  {
   "cell_type": "code",
   "execution_count": 33,
   "metadata": {},
   "outputs": [
    {
     "data": {
      "text/plain": [
       "2"
      ]
     },
     "execution_count": 33,
     "metadata": {},
     "output_type": "execute_result"
    }
   ],
   "source": [
    "len(\"中国\")"
   ]
  },
  {
   "cell_type": "code",
   "execution_count": 34,
   "metadata": {},
   "outputs": [
    {
     "ename": "TypeError",
     "evalue": "object of type 'int' has no len()",
     "output_type": "error",
     "traceback": [
      "\u001b[0;31m---------------------------------------------------------------------------\u001b[0m",
      "\u001b[0;31mTypeError\u001b[0m                                 Traceback (most recent call last)",
      "\u001b[1;32m/Users/jinrirencai/Desktop/golden_data_from_github/golden_data/feature_engineering.ipynb Cell 23\u001b[0m in \u001b[0;36m<cell line: 1>\u001b[0;34m()\u001b[0m\n\u001b[0;32m----> <a href='vscode-notebook-cell:/Users/jinrirencai/Desktop/golden_data_from_github/golden_data/feature_engineering.ipynb#X41sZmlsZQ%3D%3D?line=0'>1</a>\u001b[0m \u001b[39mlen\u001b[39;49m(\u001b[39m9\u001b[39;49m)\n",
      "\u001b[0;31mTypeError\u001b[0m: object of type 'int' has no len()"
     ]
    }
   ],
   "source": [
    "len(9)"
   ]
  },
  {
   "cell_type": "code",
   "execution_count": null,
   "metadata": {},
   "outputs": [],
   "source": []
  },
  {
   "cell_type": "code",
   "execution_count": 52,
   "metadata": {},
   "outputs": [
    {
     "name": "stderr",
     "output_type": "stream",
     "text": [
      "/Users/jinrirencai/opt/anaconda3/lib/python3.9/site-packages/sklearn/utils/deprecation.py:87: FutureWarning: Function get_feature_names is deprecated; get_feature_names is deprecated in 1.0 and will be removed in 1.2. Please use get_feature_names_out instead.\n",
      "  warnings.warn(msg, category=FutureWarning)\n"
     ]
    },
    {
     "data": {
      "text/plain": [
       "array([[0, 1, 1, 1, 0, 0, 1, 0, 1],\n",
       "       [0, 2, 0, 1, 0, 1, 1, 0, 1],\n",
       "       [1, 0, 0, 1, 1, 0, 1, 1, 1],\n",
       "       [0, 1, 1, 1, 0, 0, 1, 0, 1]])"
      ]
     },
     "execution_count": 52,
     "metadata": {},
     "output_type": "execute_result"
    }
   ],
   "source": [
    "from sklearn.feature_extraction.text import CountVectorizer\n",
    "corpus = [\n",
    "    'This is the first document.',\n",
    "    'This document is the second document.',\n",
    "    'And this is the third one.',\n",
    "    'Is this the first document?',\n",
    "]\n",
    "\n",
    "vectorizer = CountVectorizer()\n",
    "\n",
    "X = vectorizer.fit_transform(corpus)\n",
    "vectorizer.get_feature_names()\n",
    "X.toarray()"
   ]
  },
  {
   "cell_type": "code",
   "execution_count": 53,
   "metadata": {},
   "outputs": [
    {
     "name": "stdout",
     "output_type": "stream",
     "text": [
      "['and', 'document', 'first', 'is', 'one', 'second', 'the', 'third', 'this']\n"
     ]
    },
    {
     "name": "stderr",
     "output_type": "stream",
     "text": [
      "/Users/jinrirencai/opt/anaconda3/lib/python3.9/site-packages/sklearn/utils/deprecation.py:87: FutureWarning: Function get_feature_names is deprecated; get_feature_names is deprecated in 1.0 and will be removed in 1.2. Please use get_feature_names_out instead.\n",
      "  warnings.warn(msg, category=FutureWarning)\n"
     ]
    }
   ],
   "source": [
    "print(vectorizer.get_feature_names())"
   ]
  },
  {
   "cell_type": "code",
   "execution_count": 63,
   "metadata": {},
   "outputs": [
    {
     "data": {
      "text/plain": [
       "['我 喜欢 吃 苹果', '你 喜欢 吃 橘子']"
      ]
     },
     "execution_count": 63,
     "metadata": {},
     "output_type": "execute_result"
    }
   ],
   "source": [
    "## 中文\n",
    "corpus_zh = [\n",
    "    '我喜欢吃苹果',\n",
    "    '你喜欢吃橘子'\n",
    "]\n",
    "\n",
    "import jieba\n",
    "corpus_zh_out = [' '.join(jieba.cut(s, cut_all=False)) for s in corpus_zh]\n",
    "corpus_zh_out"
   ]
  },
  {
   "cell_type": "code",
   "execution_count": 64,
   "metadata": {},
   "outputs": [
    {
     "name": "stderr",
     "output_type": "stream",
     "text": [
      "/Users/jinrirencai/opt/anaconda3/lib/python3.9/site-packages/sklearn/utils/deprecation.py:87: FutureWarning: Function get_feature_names is deprecated; get_feature_names is deprecated in 1.0 and will be removed in 1.2. Please use get_feature_names_out instead.\n",
      "  warnings.warn(msg, category=FutureWarning)\n"
     ]
    },
    {
     "data": {
      "text/plain": [
       "array([[1, 0, 1],\n",
       "       [1, 1, 0]])"
      ]
     },
     "execution_count": 64,
     "metadata": {},
     "output_type": "execute_result"
    }
   ],
   "source": [
    "vectorizer = CountVectorizer()\n",
    "X = vectorizer.fit_transform(corpus_zh_out)\n",
    "vectorizer.get_feature_names()\n",
    "X.toarray()"
   ]
  },
  {
   "cell_type": "code",
   "execution_count": 65,
   "metadata": {},
   "outputs": [
    {
     "data": {
      "text/plain": [
       "['喜欢', '橘子', '苹果']"
      ]
     },
     "execution_count": 65,
     "metadata": {},
     "output_type": "execute_result"
    }
   ],
   "source": [
    "vectorizer.get_feature_names()\n"
   ]
  },
  {
   "cell_type": "code",
   "execution_count": 67,
   "metadata": {},
   "outputs": [
    {
     "data": {
      "text/plain": [
       "['__class__',\n",
       " '__delattr__',\n",
       " '__dict__',\n",
       " '__dir__',\n",
       " '__doc__',\n",
       " '__eq__',\n",
       " '__format__',\n",
       " '__ge__',\n",
       " '__getattribute__',\n",
       " '__getstate__',\n",
       " '__gt__',\n",
       " '__hash__',\n",
       " '__init__',\n",
       " '__init_subclass__',\n",
       " '__le__',\n",
       " '__lt__',\n",
       " '__module__',\n",
       " '__ne__',\n",
       " '__new__',\n",
       " '__reduce__',\n",
       " '__reduce_ex__',\n",
       " '__repr__',\n",
       " '__setattr__',\n",
       " '__setstate__',\n",
       " '__sizeof__',\n",
       " '__str__',\n",
       " '__subclasshook__',\n",
       " '__weakref__',\n",
       " '_char_ngrams',\n",
       " '_char_wb_ngrams',\n",
       " '_check_feature_names',\n",
       " '_check_n_features',\n",
       " '_check_stop_words_consistency',\n",
       " '_check_vocabulary',\n",
       " '_count_vocab',\n",
       " '_get_param_names',\n",
       " '_get_tags',\n",
       " '_limit_features',\n",
       " '_more_tags',\n",
       " '_repr_html_',\n",
       " '_repr_html_inner',\n",
       " '_repr_mimebundle_',\n",
       " '_sort_features',\n",
       " '_validate_data',\n",
       " '_validate_params',\n",
       " '_validate_vocabulary',\n",
       " '_warn_for_unused_params',\n",
       " '_white_spaces',\n",
       " '_word_ngrams',\n",
       " 'analyzer',\n",
       " 'binary',\n",
       " 'build_analyzer',\n",
       " 'build_preprocessor',\n",
       " 'build_tokenizer',\n",
       " 'decode',\n",
       " 'decode_error',\n",
       " 'dtype',\n",
       " 'encoding',\n",
       " 'fit',\n",
       " 'fit_transform',\n",
       " 'get_feature_names',\n",
       " 'get_feature_names_out',\n",
       " 'get_params',\n",
       " 'get_stop_words',\n",
       " 'input',\n",
       " 'inverse_transform',\n",
       " 'lowercase',\n",
       " 'max_df',\n",
       " 'max_features',\n",
       " 'min_df',\n",
       " 'ngram_range',\n",
       " 'preprocessor',\n",
       " 'set_params',\n",
       " 'stop_words',\n",
       " 'strip_accents',\n",
       " 'token_pattern',\n",
       " 'tokenizer',\n",
       " 'transform',\n",
       " 'vocabulary']"
      ]
     },
     "execution_count": 67,
     "metadata": {},
     "output_type": "execute_result"
    }
   ],
   "source": [
    "vectorizer = CountVectorizer()\n",
    "vectorizer"
   ]
  }
 ],
 "metadata": {
  "kernelspec": {
   "display_name": "Python 3.9.12 ('base')",
   "language": "python",
   "name": "python3"
  },
  "language_info": {
   "codemirror_mode": {
    "name": "ipython",
    "version": 3
   },
   "file_extension": ".py",
   "mimetype": "text/x-python",
   "name": "python",
   "nbconvert_exporter": "python",
   "pygments_lexer": "ipython3",
   "version": "3.9.12"
  },
  "orig_nbformat": 4,
  "vscode": {
   "interpreter": {
    "hash": "f63f3fa61251d3530929b90a6fd0ac6d4fd28461cb09a64c4fa1d09fc6d068be"
   }
  }
 },
 "nbformat": 4,
 "nbformat_minor": 2
}
