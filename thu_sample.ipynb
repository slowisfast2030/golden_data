{
 "cells": [
  {
   "cell_type": "code",
   "execution_count": 1,
   "metadata": {},
   "outputs": [],
   "source": [
    "import re\n",
    "import json\n",
    "import numpy as np\n",
    "import pandas as pd\n",
    "import jieba\n",
    "from zhconv import convert\n",
    "from sklearn.feature_extraction.text import TfidfVectorizer\n",
    "from sklearn.decomposition import PCA"
   ]
  },
  {
   "cell_type": "code",
   "execution_count": 2,
   "metadata": {},
   "outputs": [
    {
     "name": "stderr",
     "output_type": "stream",
     "text": [
      "/var/folders/b0/f13r09ys4819g6vy91gl1_zr0000gn/T/ipykernel_2149/3330071591.py:2: DtypeWarning: Columns (6) have mixed types. Specify dtype option on import or set low_memory=False.\n",
      "  all_data = pd.read_csv('../data/all_sample_20220821_spark.csv').drop(['Unnamed: 0'], axis=1)\n"
     ]
    }
   ],
   "source": [
    "# 读入20220821所有数据\n",
    "all_data = pd.read_csv('../data/all_sample_20220821_spark.csv').drop(['Unnamed: 0'], axis=1)"
   ]
  },
  {
   "cell_type": "code",
   "execution_count": 4,
   "metadata": {},
   "outputs": [
    {
     "data": {
      "text/plain": [
       "Index(['cv_id', 'jd_id', 'jd_code', 'title', 'deadline', 'category_id',\n",
       "       'category_name', 'company_id', 'company_name', 'recruit_number',\n",
       "       'work_age', 'min_annual_salary', 'max_annual_salary',\n",
       "       'min_month_salary', 'max_month_salary', 'pay_months', 'created_by_name',\n",
       "       'created_by', 'created_at', 'updated_by', 'updated_at', 'tenant_id',\n",
       "       'guarantee_period', 'status', 'recommended_rcn', 'tags', 'workplaces',\n",
       "       'description', 'school', 'degree', 'post_level_id', 'requirement', 'ds',\n",
       "       '_id', 'additionInfo', 'age', 'certificates', 'code', 'competenceScore',\n",
       "       'completeness', 'countryCode', 'createdAt', 'createdBy',\n",
       "       'currentCompany', 'currentPosition', 'currentSalary', 'dateOfBirth',\n",
       "       'degree.1', 'desiredIndustry', 'desiredPosition', 'desiredSalary',\n",
       "       'dutyTime', 'expectLocation', 'gender', 'importType', 'industry',\n",
       "       'interviewTime', 'jobIntentStatus', 'languageSkills', 'languages',\n",
       "       'location', 'maintainerId', 'majorName', 'maritalStatus', 'name',\n",
       "       'ownerId', 'resignReason', 'schoolName', 'selfEvaluation', 'skills',\n",
       "       'sourceId', 'sourceSite', 'sourceType', 'tenantId', 'uncompletedField',\n",
       "       'updatedAt', 'updatedBy', 'updatedTime', 'uploaderId', 'version',\n",
       "       'workYear', 'avatar', 'eduTracks', 'jobTracks', 'projectTracks',\n",
       "       'ds.1'],\n",
       "      dtype='object')"
      ]
     },
     "execution_count": 4,
     "metadata": {},
     "output_type": "execute_result"
    }
   ],
   "source": [
    "all_data.columns"
   ]
  },
  {
   "cell_type": "code",
   "execution_count": null,
   "metadata": {},
   "outputs": [],
   "source": []
  },
  {
   "cell_type": "code",
   "execution_count": null,
   "metadata": {},
   "outputs": [],
   "source": []
  },
  {
   "cell_type": "code",
   "execution_count": null,
   "metadata": {},
   "outputs": [],
   "source": []
  },
  {
   "cell_type": "code",
   "execution_count": null,
   "metadata": {},
   "outputs": [],
   "source": []
  }
 ],
 "metadata": {
  "kernelspec": {
   "display_name": "Python 3.9.12 ('base')",
   "language": "python",
   "name": "python3"
  },
  "language_info": {
   "codemirror_mode": {
    "name": "ipython",
    "version": 3
   },
   "file_extension": ".py",
   "mimetype": "text/x-python",
   "name": "python",
   "nbconvert_exporter": "python",
   "pygments_lexer": "ipython3",
   "version": "3.9.12"
  },
  "orig_nbformat": 4,
  "vscode": {
   "interpreter": {
    "hash": "40d3a090f54c6569ab1632332b64b2c03c39dcf918b08424e98f38b5ae0af88f"
   }
  }
 },
 "nbformat": 4,
 "nbformat_minor": 2
}
