{
 "cells": [
  {
   "cell_type": "code",
   "execution_count": 1,
   "metadata": {},
   "outputs": [],
   "source": [
    "import re\n",
    "import json\n",
    "import numpy as np\n",
    "import pandas as pd\n",
    "import jieba\n",
    "from zhconv import convert\n",
    "from sklearn.feature_extraction.text import TfidfVectorizer\n",
    "from sklearn.decomposition import PCA"
   ]
  },
  {
   "cell_type": "code",
   "execution_count": 2,
   "metadata": {},
   "outputs": [
    {
     "name": "stderr",
     "output_type": "stream",
     "text": [
      "/var/folders/b0/f13r09ys4819g6vy91gl1_zr0000gn/T/ipykernel_2149/3330071591.py:2: DtypeWarning: Columns (6) have mixed types. Specify dtype option on import or set low_memory=False.\n",
      "  all_data = pd.read_csv('../data/all_sample_20220821_spark.csv').drop(['Unnamed: 0'], axis=1)\n"
     ]
    }
   ],
   "source": [
    "# 读入20220821所有数据\n",
    "all_data = pd.read_csv('../data/all_sample_20220821_spark.csv').drop(['Unnamed: 0'], axis=1)"
   ]
  },
  {
   "cell_type": "code",
   "execution_count": 4,
   "metadata": {},
   "outputs": [
    {
     "data": {
      "text/plain": [
       "Index(['cv_id', 'jd_id', 'jd_code', 'title', 'deadline', 'category_id',\n",
       "       'category_name', 'company_id', 'company_name', 'recruit_number',\n",
       "       'work_age', 'min_annual_salary', 'max_annual_salary',\n",
       "       'min_month_salary', 'max_month_salary', 'pay_months', 'created_by_name',\n",
       "       'created_by', 'created_at', 'updated_by', 'updated_at', 'tenant_id',\n",
       "       'guarantee_period', 'status', 'recommended_rcn', 'tags', 'workplaces',\n",
       "       'description', 'school', 'degree', 'post_level_id', 'requirement', 'ds',\n",
       "       '_id', 'additionInfo', 'age', 'certificates', 'code', 'competenceScore',\n",
       "       'completeness', 'countryCode', 'createdAt', 'createdBy',\n",
       "       'currentCompany', 'currentPosition', 'currentSalary', 'dateOfBirth',\n",
       "       'degree.1', 'desiredIndustry', 'desiredPosition', 'desiredSalary',\n",
       "       'dutyTime', 'expectLocation', 'gender', 'importType', 'industry',\n",
       "       'interviewTime', 'jobIntentStatus', 'languageSkills', 'languages',\n",
       "       'location', 'maintainerId', 'majorName', 'maritalStatus', 'name',\n",
       "       'ownerId', 'resignReason', 'schoolName', 'selfEvaluation', 'skills',\n",
       "       'sourceId', 'sourceSite', 'sourceType', 'tenantId', 'uncompletedField',\n",
       "       'updatedAt', 'updatedBy', 'updatedTime', 'uploaderId', 'version',\n",
       "       'workYear', 'avatar', 'eduTracks', 'jobTracks', 'projectTracks',\n",
       "       'ds.1'],\n",
       "      dtype='object')"
      ]
     },
     "execution_count": 4,
     "metadata": {},
     "output_type": "execute_result"
    }
   ],
   "source": [
    "all_data.columns"
   ]
  },
  {
   "cell_type": "code",
   "execution_count": 7,
   "metadata": {},
   "outputs": [
    {
     "data": {
      "text/html": [
       "<div>\n",
       "<style scoped>\n",
       "    .dataframe tbody tr th:only-of-type {\n",
       "        vertical-align: middle;\n",
       "    }\n",
       "\n",
       "    .dataframe tbody tr th {\n",
       "        vertical-align: top;\n",
       "    }\n",
       "\n",
       "    .dataframe thead th {\n",
       "        text-align: right;\n",
       "    }\n",
       "</style>\n",
       "<table border=\"1\" class=\"dataframe\">\n",
       "  <thead>\n",
       "    <tr style=\"text-align: right;\">\n",
       "      <th></th>\n",
       "      <th>work_age</th>\n",
       "      <th>workYear</th>\n",
       "    </tr>\n",
       "  </thead>\n",
       "  <tbody>\n",
       "    <tr>\n",
       "      <th>0</th>\n",
       "      <td>5-10年</td>\n",
       "      <td>13.0</td>\n",
       "    </tr>\n",
       "    <tr>\n",
       "      <th>1</th>\n",
       "      <td>3-5年</td>\n",
       "      <td>7.0</td>\n",
       "    </tr>\n",
       "    <tr>\n",
       "      <th>2</th>\n",
       "      <td>10年以上</td>\n",
       "      <td>14.0</td>\n",
       "    </tr>\n",
       "    <tr>\n",
       "      <th>3</th>\n",
       "      <td>3-5年</td>\n",
       "      <td>3.0</td>\n",
       "    </tr>\n",
       "    <tr>\n",
       "      <th>4</th>\n",
       "      <td>3-5年</td>\n",
       "      <td>5.0</td>\n",
       "    </tr>\n",
       "    <tr>\n",
       "      <th>...</th>\n",
       "      <td>...</td>\n",
       "      <td>...</td>\n",
       "    </tr>\n",
       "    <tr>\n",
       "      <th>81291</th>\n",
       "      <td>5-10年</td>\n",
       "      <td>1.0</td>\n",
       "    </tr>\n",
       "    <tr>\n",
       "      <th>81292</th>\n",
       "      <td>10年以上</td>\n",
       "      <td>23.0</td>\n",
       "    </tr>\n",
       "    <tr>\n",
       "      <th>81293</th>\n",
       "      <td>10年以上</td>\n",
       "      <td>23.0</td>\n",
       "    </tr>\n",
       "    <tr>\n",
       "      <th>81294</th>\n",
       "      <td>3-5年</td>\n",
       "      <td>5.0</td>\n",
       "    </tr>\n",
       "    <tr>\n",
       "      <th>81295</th>\n",
       "      <td>5-10年</td>\n",
       "      <td>9.0</td>\n",
       "    </tr>\n",
       "  </tbody>\n",
       "</table>\n",
       "<p>81296 rows × 2 columns</p>\n",
       "</div>"
      ],
      "text/plain": [
       "      work_age  workYear\n",
       "0        5-10年      13.0\n",
       "1         3-5年       7.0\n",
       "2        10年以上      14.0\n",
       "3         3-5年       3.0\n",
       "4         3-5年       5.0\n",
       "...        ...       ...\n",
       "81291    5-10年       1.0\n",
       "81292    10年以上      23.0\n",
       "81293    10年以上      23.0\n",
       "81294     3-5年       5.0\n",
       "81295    5-10年       9.0\n",
       "\n",
       "[81296 rows x 2 columns]"
      ]
     },
     "execution_count": 7,
     "metadata": {},
     "output_type": "execute_result"
    }
   ],
   "source": [
    "all_data[['work_age', 'workYear']]"
   ]
  },
  {
   "cell_type": "markdown",
   "metadata": {},
   "source": [
    "## 理清需要用的特征\n"
   ]
  },
  {
   "cell_type": "code",
   "execution_count": null,
   "metadata": {},
   "outputs": [],
   "source": [
    "# 这些特征在sample pipeline的表里，但是现在无法下载\n",
    "ext_columns = ['school_labels_cv', 'school_labels_jd', 'expectlocation_range_cv', 'location_range_jd', 'degree_index_cv', 'degree_index_jd', 'workyear_range_jd', 'gender_index_cv', 'job_intentstatus_cv']\n",
    "\n",
    "# 这些特征在原始的cv和jd表里\n",
    "raw_columns = ['age', 'recruit_number', 'workYear', 'min_annual_salary', 'max_annual_salary', 'pay_months', 'currentSalary', 'desiredSalary']\n",
    "\n",
    "# 这些特征的过程已经有了，需要进一步拼接\n",
    "new_columns = ['position_tfidf_pca', 'skills_tfidf_pca', 'jobTracks_tfidf_pca', 'title_category_tags_tfidf_pca', 'description', 'requirement', 'work_duration_mean', 'equal_words', 'equal_job']\n",
    "\n",
    "\n",
    "wide_columns = []\n",
    "deep_columns = []"
   ]
  },
  {
   "cell_type": "code",
   "execution_count": null,
   "metadata": {},
   "outputs": [],
   "source": []
  },
  {
   "cell_type": "code",
   "execution_count": null,
   "metadata": {},
   "outputs": [],
   "source": []
  }
 ],
 "metadata": {
  "kernelspec": {
   "display_name": "Python 3.9.12 ('base')",
   "language": "python",
   "name": "python3"
  },
  "language_info": {
   "codemirror_mode": {
    "name": "ipython",
    "version": 3
   },
   "file_extension": ".py",
   "mimetype": "text/x-python",
   "name": "python",
   "nbconvert_exporter": "python",
   "pygments_lexer": "ipython3",
   "version": "3.9.12"
  },
  "orig_nbformat": 4,
  "vscode": {
   "interpreter": {
    "hash": "40d3a090f54c6569ab1632332b64b2c03c39dcf918b08424e98f38b5ae0af88f"
   }
  }
 },
 "nbformat": 4,
 "nbformat_minor": 2
}
