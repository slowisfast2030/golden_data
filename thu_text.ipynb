{
 "cells": [
  {
   "cell_type": "code",
   "execution_count": null,
   "metadata": {},
   "outputs": [],
   "source": [
    "import re\n",
    "import json\n",
    "import numpy as np\n",
    "import pandas as pd\n",
    "import jieba\n",
    "from zhconv import convert\n",
    "from sklearn.feature_extraction.text import TfidfVectorizer\n",
    "from sklearn.decomposition import PCA"
   ]
  },
  {
   "cell_type": "code",
   "execution_count": null,
   "metadata": {},
   "outputs": [],
   "source": [
    "# 读入20220821所有数据\n",
    "all_data = pd.read_csv('../data/all_sample_20220821_spark.csv').drop(['Unnamed: 0'], axis=1)"
   ]
  },
  {
   "cell_type": "code",
   "execution_count": null,
   "metadata": {},
   "outputs": [],
   "source": [
    "# 显示所有的列\n",
    "all_data.columns"
   ]
  },
  {
   "cell_type": "code",
   "execution_count": null,
   "metadata": {},
   "outputs": [],
   "source": [
    "# 注意一下，这里的列名和sample pipeline中的列名有一点大小写区别，问题不大\n",
    "cv_columns = ['cv_id', 'currentPosition', 'desiredPosition', 'industry', 'desiredIndustry', 'majorName', 'skills', 'eduTracks', 'jobTracks', 'projectTracks']\n",
    "jd_columns = ['jd_id', 'title', 'category_name', 'tags', 'description', 'requirement']"
   ]
  },
  {
   "cell_type": "code",
   "execution_count": null,
   "metadata": {},
   "outputs": [],
   "source": [
    "jd_data = all_data[jd_columns]\n",
    "jd_data\n",
    "\n",
    "# 可以做3个向量\n",
    "# 1.title + category_name + tags\n",
    "# 2.description\n",
    "# 3.requirement\n",
    "# 每个向量的维度在20维左右"
   ]
  },
  {
   "cell_type": "markdown",
   "metadata": {},
   "source": [
    "##### 将title + category_name + tags合并成一个字段"
   ]
  },
  {
   "cell_type": "code",
   "execution_count": null,
   "metadata": {},
   "outputs": [],
   "source": [
    "# step1：缺失值填充\n",
    "\n",
    "jd_data['title'].fillna('', inplace=True)\n",
    "jd_data['category_name'].fillna('', inplace=True)\n",
    "jd_data['tags'].fillna('[]', inplace=True)"
   ]
  },
  {
   "cell_type": "code",
   "execution_count": null,
   "metadata": {},
   "outputs": [],
   "source": [
    "# step2：定义新列，将title + category_name合并\n",
    "\n",
    "col_name1 = 'title'\n",
    "col_name2 = 'category_name'\n",
    "\n",
    "def col_merge_str_fun(series):\n",
    "    '''\n",
    "    适用于文本列合并\n",
    "    '''\n",
    "    return series[col_name1] + ' ' + series[col_name2]\n",
    "\n",
    "jd_data['title_category'] = jd_data.apply(col_merge_str_fun, axis=1)\n",
    "jd_data"
   ]
  },
  {
   "cell_type": "code",
   "execution_count": null,
   "metadata": {},
   "outputs": [],
   "source": [
    "# step3：将新列title_category通过jieba分词处理成列表\n",
    "\n",
    "col_name = 'title_category'\n",
    "\n",
    "def col_jieba_fun(series):\n",
    "    col = series[col_name]\n",
    "\n",
    "    # 字符串变列表\n",
    "    if col.startswith(\"[\") and col.endswith(\"]\"):\n",
    "        col = json.loads(col)\n",
    "    else:\n",
    "        col = re.split(\",|，|/| \", col)\n",
    "\n",
    "    # 对于中文，进入jieba前不需要添加空格\n",
    "    # 不过，如果是中英文混合，就必须空格了\n",
    "    col_str = \" \".join(col)\n",
    "    col_list = jieba.lcut(col_str, cut_all=False)\n",
    "    return col_list\n",
    "\n",
    "jd_data['title_category_jieba'] = jd_data.apply(col_jieba_fun, axis=1)\n",
    "jd_data\n"
   ]
  },
  {
   "cell_type": "code",
   "execution_count": null,
   "metadata": {},
   "outputs": [],
   "source": [
    "# step4：将tags列通过jieba分词处理成列表\n",
    "\n",
    "col_name = 'tags'\n",
    "\n",
    "def col_jieba_fun(series):\n",
    "    col = series[col_name]\n",
    "\n",
    "    # 字符串变列表\n",
    "    if col.startswith(\"[\") and col.endswith(\"]\"):\n",
    "        col = json.loads(col)\n",
    "    else:\n",
    "        col = re.split(\",|，|/| \", col)\n",
    "\n",
    "    # 对于中文，进入jieba前不需要添加空格\n",
    "    # 不过，如果是中英文混合，就必须空格了\n",
    "    col_str = \" \".join(col)\n",
    "    col_list = jieba.lcut(col_str, cut_all=False)\n",
    "    return col_list\n",
    "\n",
    "jd_data['tags_jieba'] = jd_data.apply(col_jieba_fun, axis=1)\n",
    "jd_data\n"
   ]
  },
  {
   "cell_type": "code",
   "execution_count": null,
   "metadata": {},
   "outputs": [],
   "source": [
    "# step5：将title_category_jieba和tags_jieba两个列表合并\n",
    "\n",
    "col_name1 = 'title_category_jieba'\n",
    "col_name2 = 'tags_jieba'\n",
    "\n",
    "def col_merge_list_fun(series):\n",
    "    '''\n",
    "    适用于列表列合并\n",
    "    '''\n",
    "    return series[col_name1] + series[col_name2]\n",
    "\n",
    "jd_data['title_category_tags_jieba'] = jd_data.apply(col_merge_list_fun, axis=1)\n",
    "jd_data\n"
   ]
  },
  {
   "cell_type": "code",
   "execution_count": null,
   "metadata": {},
   "outputs": [],
   "source": [
    "# step6：过滤title_category_tags_jieba, 得到以空格分割的字符串\n",
    "\n",
    "col_name = 'title_category_tags_jieba'\n",
    "def col_jieba_filter_fun(series):\n",
    "\n",
    "    col_list_filter = []\n",
    "    # 得到tag列表\n",
    "    col_list = series[col_name]\n",
    "    # print(tags_list[0])\n",
    "\n",
    "    pun_masks_english = [\",\", \".\", \"/\", \"[\", \"]\", \"{\", \"}\", \"(\", \")\", \":\", \"*\", \"#\", \"!\", \" \", \"\\\"\", \"\\\\\"]\n",
    "    pun_masks_chinese = [\"，\", \"。\", \"、\", \"（\", \"）\", \"：\", \"！\", \"”\", \"“\"]\n",
    "    pun_masks = pun_masks_english + pun_masks_chinese\n",
    "\n",
    "    # 过滤\n",
    "    for tag in col_list:\n",
    "        # 转中文简体\n",
    "        tag = convert(tag, \"zh-hans\")\n",
    "        # 转英文小写\n",
    "        tag = tag.lower()\n",
    "\n",
    "        # 过滤数字\n",
    "        if tag.isdigit():\n",
    "            continue\n",
    "        \n",
    "        # 过滤单个字符\n",
    "        if len(tag) <= 1:\n",
    "            continue\n",
    "        \n",
    "        # 过滤标点\n",
    "        flag = 1\n",
    "        for pun in pun_masks:\n",
    "            if pun in tag:\n",
    "                flag = 0\n",
    "                break\n",
    "        if flag == 1:\n",
    "            col_list_filter.append(tag)\n",
    "    return \" \".join(col_list_filter)\n",
    "\n",
    "jd_data['title_category_tags_jieba_filter'] = jd_data.apply(col_jieba_filter_fun, axis=1)\n",
    "jd_data"
   ]
  },
  {
   "cell_type": "code",
   "execution_count": null,
   "metadata": {},
   "outputs": [],
   "source": [
    "# step7：将title_category_tags_jieba_filter转成tfidf向量\n",
    "\n",
    "def get_tfidf(df, col_name):\n",
    "    # col_name必须是以空格分割的字符串\n",
    "    text = df[col_name]\n",
    "    \n",
    "    vectorizer = TfidfVectorizer()\n",
    "    # 返回的是nparray\n",
    "    vector = vectorizer.fit_transform(text)\n",
    "    return pd.DataFrame(vector.toarray()), vectorizer\n",
    "\n",
    "tfidf, vectorizer = get_tfidf(jd_data, 'title_category_tags_jieba_filter')\n",
    "tfidf\n"
   ]
  },
  {
   "cell_type": "code",
   "execution_count": null,
   "metadata": {},
   "outputs": [],
   "source": [
    "vectorizer.vocabulary_"
   ]
  },
  {
   "cell_type": "code",
   "execution_count": null,
   "metadata": {},
   "outputs": [],
   "source": [
    "# step8：将tfidf降维到n维\n",
    "\n",
    "def get_tfidf_pca(tfidf, n=20):\n",
    "    pca = PCA(n_components=n)\n",
    "    tfidf_pca = pca.fit_transform(tfidf)\n",
    "    tfidf_pca = pd.DataFrame(tfidf_pca)\n",
    "    return tfidf_pca\n",
    "\n",
    "tfidf_pca = get_tfidf_pca(tfidf, 10)\n",
    "tfidf_pca"
   ]
  }
 ],
 "metadata": {
  "kernelspec": {
   "display_name": "Python 3.9.12 ('base')",
   "language": "python",
   "name": "python3"
  },
  "language_info": {
   "codemirror_mode": {
    "name": "ipython",
    "version": 3
   },
   "file_extension": ".py",
   "mimetype": "text/x-python",
   "name": "python",
   "nbconvert_exporter": "python",
   "pygments_lexer": "ipython3",
   "version": "3.9.12"
  },
  "orig_nbformat": 4,
  "vscode": {
   "interpreter": {
    "hash": "f63f3fa61251d3530929b90a6fd0ac6d4fd28461cb09a64c4fa1d09fc6d068be"
   }
  }
 },
 "nbformat": 4,
 "nbformat_minor": 2
}
